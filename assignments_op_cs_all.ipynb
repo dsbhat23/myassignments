{
 "cells": [
  {
   "cell_type": "markdown",
   "id": "0dc79fc6",
   "metadata": {},
   "source": [
    "# assignment dated 02/12/2023"
   ]
  },
  {
   "cell_type": "code",
   "execution_count": 7,
   "id": "b84605a4",
   "metadata": {},
   "outputs": [
    {
     "name": "stdout",
     "output_type": "stream",
     "text": [
      "wow\n"
     ]
    }
   ],
   "source": [
    "#write python code for solve this. if a list contains 1 as well as 'mango' than output \"wow\" otherwise output will be 'blah'?\n",
    "\n",
    "def check_list(lst):\n",
    "    if 1 in lst and 'mango' in lst:\n",
    "        return \"wow\"\n",
    "    else:\n",
    "        return \"blah\"\n",
    "\n",
    "# Example usage:\n",
    "my_list = [1, 2, 'apple', 'mango', 'orange']\n",
    "result = check_list(my_list)\n",
    "print(result)\n"
   ]
  },
  {
   "cell_type": "markdown",
   "id": "e80f8cbb",
   "metadata": {},
   "source": [
    "# CONDITIONAL STATEMENTS"
   ]
  },
  {
   "cell_type": "code",
   "execution_count": 1,
   "id": "b4f760d2",
   "metadata": {},
   "outputs": [
    {
     "name": "stdout",
     "output_type": "stream",
     "text": [
      "Enter the first number: 10\n",
      "Enter the second number: 90\n",
      "The maximum of 10.0 and 90.0 is: 90.0\n"
     ]
    }
   ],
   "source": [
    "#1 Maximum of two numbers in Python\n",
    "def find_maximum(num1, num2):\n",
    "    return max(num1, num2)\n",
    "\n",
    "# Example usage\n",
    "number1 = float(input(\"Enter the first number: \"))\n",
    "number2 = float(input(\"Enter the second number: \"))\n",
    "\n",
    "maximum_number = find_maximum(number1, number2)\n",
    "\n",
    "print(f\"The maximum of {number1} and {number2} is: {maximum_number}\")"
   ]
  },
  {
   "cell_type": "code",
   "execution_count": 2,
   "id": "67a907cb",
   "metadata": {},
   "outputs": [
    {
     "name": "stdout",
     "output_type": "stream",
     "text": [
      "Enter the grade for Math: 60\n",
      "Enter the grade for English: 56\n",
      "Enter the grade for Science: 96\n",
      "Enter the grade for History: 87\n",
      "Enter the grade for Art: 69\n",
      "\n",
      "----- Report Card -----\n",
      "Math: 60.0\n",
      "English: 56.0\n",
      "Science: 96.0\n",
      "History: 87.0\n",
      "Art: 69.0\n",
      "Average: 73.6\n",
      "\n",
      "Average Grade: 73.6\n",
      "Performance: Good\n"
     ]
    }
   ],
   "source": [
    "#W2 rite a Python Program for Generating a Report Card\n",
    "def calculate_average(grades):\n",
    "    return sum(grades) / len(grades)\n",
    "\n",
    "def generate_report_card(subjects, grades):\n",
    "    report_card = {}\n",
    "    \n",
    "    for i in range(len(subjects)):\n",
    "        report_card[subjects[i]] = grades[i]\n",
    "\n",
    "    average_grade = calculate_average(grades)\n",
    "    report_card[\"Average\"] = average_grade\n",
    "\n",
    "    return report_card\n",
    "\n",
    "def assess_performance(average_grade):\n",
    "    if average_grade >= 90:\n",
    "        return \"Excellent\"\n",
    "    elif 80 <= average_grade < 90:\n",
    "        return \"Very Good\"\n",
    "    elif 70 <= average_grade < 80:\n",
    "        return \"Good\"\n",
    "    elif 60 <= average_grade < 70:\n",
    "        return \"Satisfactory\"\n",
    "    else:\n",
    "        return \"Needs Improvement\"\n",
    "\n",
    "def main():\n",
    "    # User input for subjects and grades\n",
    "    subjects = [\"Math\", \"English\", \"Science\", \"History\", \"Art\"]\n",
    "    grades = []\n",
    "\n",
    "    for subject in subjects:\n",
    "        grade = float(input(f\"Enter the grade for {subject}: \"))\n",
    "        grades.append(grade)\n",
    "\n",
    "    # Generate report card\n",
    "    report_card = generate_report_card(subjects, grades)\n",
    "\n",
    "    # Print report card\n",
    "    print(\"\\n----- Report Card -----\")\n",
    "    for subject, grade in report_card.items():\n",
    "        print(f\"{subject}: {grade}\")\n",
    "\n",
    "    # Calculate average and assess performance\n",
    "    average_grade = report_card[\"Average\"]\n",
    "    performance = assess_performance(average_grade)\n",
    "\n",
    "    print(f\"\\nAverage Grade: {average_grade}\")\n",
    "    print(f\"Performance: {performance}\")\n",
    "\n",
    "if __name__ == \"__main__\":\n",
    "    main()\n",
    "\n",
    "    "
   ]
  },
  {
   "cell_type": "code",
   "execution_count": 3,
   "id": "63fc896d",
   "metadata": {},
   "outputs": [
    {
     "name": "stdout",
     "output_type": "stream",
     "text": [
      "Enter a year: 2045\n",
      "2045 is not a leap year.\n"
     ]
    }
   ],
   "source": [
    "#3 Python program For Checking Leap Year or Not\n",
    "def is_leap_year(year):\n",
    "    if (year % 4 == 0 and year % 100 != 0) or (year % 400 == 0):\n",
    "        return True\n",
    "    else:\n",
    "        return False\n",
    "\n",
    "def main():\n",
    "    try:\n",
    "        year = int(input(\"Enter a year: \"))\n",
    "        if year > 0:\n",
    "            if is_leap_year(year):\n",
    "                print(f\"{year} is a leap year.\")\n",
    "            else:\n",
    "                print(f\"{year} is not a leap year.\")\n",
    "        else:\n",
    "            print(\"Please enter a valid positive year.\")\n",
    "    except ValueError:\n",
    "        print(\"Invalid input. Please enter a valid year.\")\n",
    "\n",
    "if __name__ == \"__main__\":\n",
    "    main()\n"
   ]
  },
  {
   "cell_type": "code",
   "execution_count": 4,
   "id": "0a3c1e86",
   "metadata": {},
   "outputs": [
    {
     "name": "stdout",
     "output_type": "stream",
     "text": [
      "Enter candidate's age: 14\n",
      "The candidate is not eligible to vote.\n"
     ]
    }
   ],
   "source": [
    "#4. Python Program to Check weather a candidate Eligible for Vote or not\n",
    "ef check_eligibility(age):\n",
    "    if age >= 18:\n",
    "        return True\n",
    "    else:\n",
    "        return False\n",
    "\n",
    "def main():\n",
    "    try:\n",
    "        age = int(input(\"Enter candidate's age: \"))\n",
    "        if age >= 0:\n",
    "            if check_eligibility(age):\n",
    "                print(f\"The candidate is eligible to vote.\")\n",
    "            else:\n",
    "                print(f\"The candidate is not eligible to vote.\")\n",
    "        else:\n",
    "            print(\"Please enter a valid non-negative age.\")\n",
    "    except ValueError:\n",
    "        print(\"Invalid input. Please enter a valid age.\")\n",
    "\n",
    "if __name__ == \"__main__\":\n",
    "    main()\n"
   ]
  },
  {
   "cell_type": "code",
   "execution_count": 5,
   "id": "22740664",
   "metadata": {},
   "outputs": [
    {
     "name": "stdout",
     "output_type": "stream",
     "text": [
      "Enter a number: 58\n",
      "58 is not divisible by 7.\n"
     ]
    }
   ],
   "source": [
    "#5. Python program to check weather Given Number is Divisible by 7 or Not\n",
    "def check_divisibility_by_seven(number):\n",
    "    if number % 7 == 0:\n",
    "        return True\n",
    "    else:\n",
    "        return False\n",
    "\n",
    "def main():\n",
    "    try:\n",
    "        number = int(input(\"Enter a number: \"))\n",
    "        if check_divisibility_by_seven(number):\n",
    "            print(f\"{number} is divisible by 7.\")\n",
    "        else:\n",
    "            print(f\"{number} is not divisible by 7.\")\n",
    "    except ValueError:\n",
    "        print(\"Invalid input. Please enter a valid number.\")\n",
    "\n",
    "if __name__ == \"__main__\":\n",
    "    main()\n"
   ]
  },
  {
   "cell_type": "code",
   "execution_count": 6,
   "id": "707bd816",
   "metadata": {},
   "outputs": [
    {
     "name": "stdout",
     "output_type": "stream",
     "text": [
      "Enter a number: 15\n",
      "The number 15 is Odd.\n"
     ]
    }
   ],
   "source": [
    "#6. Python Program to check weather a given number is odd or Even\n",
    "def check_odd_even(number):\n",
    "    if number % 2 == 0:\n",
    "        return \"Even\"\n",
    "    else:\n",
    "        return \"Odd\"\n",
    "\n",
    "def main():\n",
    "    try:\n",
    "        number = int(input(\"Enter a number: \"))\n",
    "        result = check_odd_even(number)\n",
    "        print(f\"The number {number} is {result}.\")\n",
    "    except ValueError:\n",
    "        print(\"Invalid input. Please enter a valid number.\")\n",
    "\n",
    "if __name__ == \"__main__\":\n",
    "    main()\n"
   ]
  },
  {
   "cell_type": "code",
   "execution_count": 8,
   "id": "906c9624",
   "metadata": {},
   "outputs": [
    {
     "name": "stdout",
     "output_type": "stream",
     "text": [
      "Enter a number: 15\n",
      "Hello\n"
     ]
    }
   ],
   "source": [
    "#7 Write a program to display \"Hello\" if a number entered by user is a multiple of five , otherwise print \"Bye\".\n",
    "def check_multiple_of_five(number):\n",
    "    if number % 5 == 0:\n",
    "        return \"Hello\"\n",
    "    else:\n",
    "        return \"Bye\"\n",
    "\n",
    "def main():\n",
    "    try:\n",
    "        number = int(input(\"Enter a number: \"))\n",
    "        result = check_multiple_of_five(number)\n",
    "        print(result)\n",
    "    except ValueError:\n",
    "        print(\"Invalid input. Please enter a valid number.\")\n",
    "\n",
    "if __name__ == \"__main__\":\n",
    "    main()\n"
   ]
  },
  {
   "cell_type": "code",
   "execution_count": 9,
   "id": "f632450b",
   "metadata": {},
   "outputs": [
    {
     "name": "stdout",
     "output_type": "stream",
     "text": [
      "Enter your age: 56\n",
      "You are eligible to vote!\n"
     ]
    }
   ],
   "source": [
    "#8 Write a program to check whether a person is eligible for voting or not. (accept age from user)\n",
    "def check_voting_eligibility(age):\n",
    "    if age >= 18:\n",
    "        return \"You are eligible to vote!\"\n",
    "    else:\n",
    "        return \"Sorry, you are not eligible to vote.\"\n",
    "\n",
    "def main():\n",
    "    try:\n",
    "        age = int(input(\"Enter your age: \"))\n",
    "        result = check_voting_eligibility(age)\n",
    "        print(result)\n",
    "    except ValueError:\n",
    "        print(\"Invalid input. Please enter a valid age.\")\n",
    "\n",
    "if __name__ == \"__main__\":\n",
    "    main()\n"
   ]
  },
  {
   "cell_type": "code",
   "execution_count": 10,
   "id": "8c148690",
   "metadata": {},
   "outputs": [
    {
     "name": "stdout",
     "output_type": "stream",
     "text": [
      "Enter a number: 12\n",
      "The last digit (2) is not divisible by 3.\n"
     ]
    }
   ],
   "source": [
    "#9 Write a program to check whether the last digit of a number( entered by user ) is divisible by 3 or not.\n",
    "def check_last_digit_divisibility(number):\n",
    "    last_digit = number % 10\n",
    "    if last_digit % 3 == 0:\n",
    "        return f\"The last digit ({last_digit}) is divisible by 3.\"\n",
    "    else:\n",
    "        return f\"The last digit ({last_digit}) is not divisible by 3.\"\n",
    "\n",
    "def main():\n",
    "    try:\n",
    "        number = int(input(\"Enter a number: \"))\n",
    "        result = check_last_digit_divisibility(number)\n",
    "        print(result)\n",
    "    except ValueError:\n",
    "        print(\"Invalid input. Please enter a valid number.\")\n",
    "\n",
    "if __name__ == \"__main__\":\n",
    "    main()\n"
   ]
  },
  {
   "cell_type": "code",
   "execution_count": 11,
   "id": "3ce4585e",
   "metadata": {},
   "outputs": [
    {
     "name": "stdout",
     "output_type": "stream",
     "text": [
      "Enter the percentage: 60\n",
      "Your grade is: C\n"
     ]
    }
   ],
   "source": [
    "#10 \"Write a program to accept percentage from the user and display the grade according to the following criteria:\n",
    "# Marks Grade\n",
    "# > 90 A\n",
    "# > 80 and <= 90 B\n",
    "# >= 60 and <= 80 C\n",
    "# below 60 D\"\n",
    "\n",
    "def calculate_grade(percentage):\n",
    "    if percentage > 90:\n",
    "        return \"A\"\n",
    "    elif 80 < percentage <= 90:\n",
    "        return \"B\"\n",
    "    elif 60 <= percentage <= 80:\n",
    "        return \"C\"\n",
    "    else:\n",
    "        return \"D\"\n",
    "\n",
    "def main():\n",
    "    try:\n",
    "        percentage = float(input(\"Enter the percentage: \"))\n",
    "        if 0 <= percentage <= 100:\n",
    "            grade = calculate_grade(percentage)\n",
    "            print(f\"Your grade is: {grade}\")\n",
    "        else:\n",
    "            print(\"Invalid input. Please enter a percentage between 0 and 100.\")\n",
    "    except ValueError:\n",
    "        print(\"Invalid input. Please enter a valid percentage.\")\n",
    "\n",
    "if __name__ == \"__main__\":\n",
    "    main()\n",
    "\n",
    "    \n",
    "    "
   ]
  },
  {
   "cell_type": "code",
   "execution_count": 12,
   "id": "74cad3f0",
   "metadata": {},
   "outputs": [
    {
     "name": "stdout",
     "output_type": "stream",
     "text": [
      "Enter the cost price of the bike (in Rs): 1545\n",
      "The road tax to be paid is: Rs 77.25\n"
     ]
    }
   ],
   "source": [
    "#11 \"Write a program to accept the cost price of a bike and display the road tax to be paid according to the following criteria :\n",
    "# Cost price (in Rs) Tax\n",
    "# > 100000 15 %\n",
    "# > 50000 and <= 100000 10%\n",
    "# <= 50000 5%\"\n",
    "def calculate_road_tax(cost_price):\n",
    "    if cost_price > 100000:\n",
    "        tax_percentage = 15\n",
    "    elif 50000 < cost_price <= 100000:\n",
    "        tax_percentage = 10\n",
    "    else:\n",
    "        tax_percentage = 5\n",
    "\n",
    "    road_tax = (tax_percentage / 100) * cost_price\n",
    "    return road_tax\n",
    "\n",
    "def main():\n",
    "    try:\n",
    "        cost_price = float(input(\"Enter the cost price of the bike (in Rs): \"))\n",
    "        if cost_price >= 0:\n",
    "            road_tax = calculate_road_tax(cost_price)\n",
    "            print(f\"The road tax to be paid is: Rs {road_tax:.2f}\")\n",
    "        else:\n",
    "            print(\"Invalid input. Please enter a valid cost price.\")\n",
    "    except ValueError:\n",
    "        print(\"Invalid input. Please enter a valid cost price.\")\n",
    "\n",
    "if __name__ == \"__main__\":\n",
    "    main()\n",
    "\n"
   ]
  },
  {
   "cell_type": "code",
   "execution_count": 13,
   "id": "a728f7f5",
   "metadata": {},
   "outputs": [
    {
     "name": "stdout",
     "output_type": "stream",
     "text": [
      "Enter a number from 1 to 7: 5\n",
      "The day corresponding to 5 is: Thursday\n"
     ]
    }
   ],
   "source": [
    "#12 Write a program to accept a number from 1 to 7 and display the name of the day like 1 for Sunday , 2 for Monday and so on.\n",
    "\n",
    "def get_day_name(day_number):\n",
    "    days = [\"Sunday\", \"Monday\", \"Tuesday\", \"Wednesday\", \"Thursday\", \"Friday\", \"Saturday\"]\n",
    "    \n",
    "    if 1 <= day_number <= 7:\n",
    "        return days[day_number - 1]\n",
    "    else:\n",
    "        return \"Invalid day number. Please enter a number from 1 to 7.\"\n",
    "\n",
    "def main():\n",
    "    try:\n",
    "        day_number = int(input(\"Enter a number from 1 to 7: \"))\n",
    "        day_name = get_day_name(day_number)\n",
    "        print(f\"The day corresponding to {day_number} is: {day_name}\")\n",
    "    except ValueError:\n",
    "        print(\"Invalid input. Please enter a valid number.\")\n",
    "\n",
    "if __name__ == \"__main__\":\n",
    "    main()\n"
   ]
  },
  {
   "cell_type": "code",
   "execution_count": 14,
   "id": "ab393c7b",
   "metadata": {},
   "outputs": [
    {
     "name": "stdout",
     "output_type": "stream",
     "text": [
      "Enter a number from 1 to 12: 6\n",
      "The month corresponding to 6 is June, and it has 30 days.\n"
     ]
    }
   ],
   "source": [
    "#13 Write a program to accept a number from 1 to 12 and display name of the month and days in that month like 1 for January and number of days 31 and so on\n",
    "\n",
    "def get_month_details(month_number):\n",
    "    months = [\"January\", \"February\", \"March\", \"April\", \"May\", \"June\", \"July\", \"August\", \"September\", \"October\", \"November\", \"December\"]\n",
    "    days_in_month = [31, 28, 31, 30, 31, 30, 31, 31, 30, 31, 30, 31]\n",
    "\n",
    "    if 1 <= month_number <= 12:\n",
    "        month_name = months[month_number - 1]\n",
    "        days = days_in_month[month_number - 1]\n",
    "        return month_name, days\n",
    "    else:\n",
    "        return \"Invalid month number. Please enter a number from 1 to 12.\"\n",
    "\n",
    "def main():\n",
    "    try:\n",
    "        month_number = int(input(\"Enter a number from 1 to 12: \"))\n",
    "        month_name, days = get_month_details(month_number)\n",
    "        print(f\"The month corresponding to {month_number} is {month_name}, and it has {days} days.\")\n",
    "    except ValueError:\n",
    "        print(\"Invalid input. Please enter a valid number.\")\n",
    "\n",
    "if __name__ == \"__main__\":\n",
    "    main()\n",
    "\n"
   ]
  },
  {
   "cell_type": "code",
   "execution_count": 15,
   "id": "08c6f8a6",
   "metadata": {},
   "outputs": [
    {
     "name": "stdout",
     "output_type": "stream",
     "text": [
      "Enter a city: bangalore\n",
      "The monument in bangalore is: Monument information not available for the entered city.\n"
     ]
    }
   ],
   "source": [
    "#14 \"Accept any city from the user and display monument of that city.\n",
    " #City Monument\n",
    " #Delhi Red Fort\n",
    "# Agra Taj Mahal\n",
    " #Jaipur Jal Mahal\"\n",
    " \n",
    "def get_monument(city):\n",
    "    monuments = {\n",
    "        \"Delhi\": \"Red Fort\",\n",
    "        \"Agra\": \"Taj Mahal\",\n",
    "        \"Jaipur\": \"Jal Mahal\"\n",
    "    }\n",
    "\n",
    "    return monuments.get(city, \"Monument information not available for the entered city.\")\n",
    "\n",
    "def main():\n",
    "    city = input(\"Enter a city: \")\n",
    "    monument = get_monument(city.capitalize())  # Capitalizing the input for case-insensitivity\n",
    "\n",
    "    print(f\"The monument in {city} is: {monument}\")\n",
    "\n",
    "if __name__ == \"__main__\":\n",
    "    main()\n",
    "\n",
    "    "
   ]
  },
  {
   "cell_type": "code",
   "execution_count": 16,
   "id": "d8368dcd",
   "metadata": {},
   "outputs": [
    {
     "name": "stdout",
     "output_type": "stream",
     "text": [
      "Enter your age: 89\n",
      "Congratulations! You are a senior citizen.\n"
     ]
    }
   ],
   "source": [
    "#15 Write a program to check whether a person is senior citizen or not.\n",
    "def check_senior_citizen(age):\n",
    "    if age >= 60:\n",
    "        return \"Congratulations! You are a senior citizen.\"\n",
    "    else:\n",
    "        return \"You are not a senior citizen yet.\"\n",
    "\n",
    "def main():\n",
    "    try:\n",
    "        age = int(input(\"Enter your age: \"))\n",
    "        result = check_senior_citizen(age)\n",
    "        print(result)\n",
    "    except ValueError:\n",
    "        print(\"Invalid input. Please enter a valid age.\")\n",
    "\n",
    "if __name__ == \"__main__\":\n",
    "    main()\n"
   ]
  },
  {
   "cell_type": "code",
   "execution_count": 17,
   "id": "6530985a",
   "metadata": {},
   "outputs": [
    {
     "name": "stdout",
     "output_type": "stream",
     "text": [
      "Enter the first number: 8\n",
      "Enter the second number: 89\n",
      "The lowest number is: 8.0\n"
     ]
    }
   ],
   "source": [
    "#16 Write a program to find the lowest number out of two numbers excepted from user.\n",
    "\n",
    "def find_lowest_number(num1, num2):\n",
    "    return min(num1, num2)\n",
    "\n",
    "def main():\n",
    "    try:\n",
    "        num1 = float(input(\"Enter the first number: \"))\n",
    "        num2 = float(input(\"Enter the second number: \"))\n",
    "        lowest_number = find_lowest_number(num1, num2)\n",
    "        print(f\"The lowest number is: {lowest_number}\")\n",
    "    except ValueError:\n",
    "        print(\"Invalid input. Please enter valid numbers.\")\n",
    "\n",
    "if __name__ == \"__main__\":\n",
    "    main()\n"
   ]
  },
  {
   "cell_type": "code",
   "execution_count": 18,
   "id": "46e83917",
   "metadata": {},
   "outputs": [
    {
     "name": "stdout",
     "output_type": "stream",
     "text": [
      "Enter the first number: 89\n",
      "Enter the second number: 5\n",
      "The largest number is: 89.0\n"
     ]
    }
   ],
   "source": [
    "#17 Write a program to find the largest number out of two numbers excepted from user.\n",
    "\n",
    "def find_largest_number(num1, num2):\n",
    "    return max(num1, num2)\n",
    "\n",
    "def main():\n",
    "    try:\n",
    "        num1 = float(input(\"Enter the first number: \"))\n",
    "        num2 = float(input(\"Enter the second number: \"))\n",
    "        largest_number = find_largest_number(num1, num2)\n",
    "        print(f\"The largest number is: {largest_number}\")\n",
    "    except ValueError:\n",
    "        print(\"Invalid input. Please enter valid numbers.\")\n",
    "\n",
    "if __name__ == \"__main__\":\n",
    "    main()\n"
   ]
  },
  {
   "cell_type": "code",
   "execution_count": 19,
   "id": "a1b07904",
   "metadata": {},
   "outputs": [
    {
     "name": "stdout",
     "output_type": "stream",
     "text": [
      "Enter a number: 788\n",
      "788 is not divisible by both 2 and 3.\n"
     ]
    }
   ],
   "source": [
    "#18 Write a program to whether a number (accepted from user) is divisible by 2 and 3 both.\n",
    "\n",
    "def check_divisibility_by_two_and_three(number):\n",
    "    if number % 2 == 0 and number % 3 == 0:\n",
    "        return f\"{number} is divisible by both 2 and 3.\"\n",
    "    else:\n",
    "        return f\"{number} is not divisible by both 2 and 3.\"\n",
    "\n",
    "def main():\n",
    "    try:\n",
    "        number = int(input(\"Enter a number: \"))\n",
    "        result = check_divisibility_by_two_and_three(number)\n",
    "        print(result)\n",
    "    except ValueError:\n",
    "        print(\"Invalid input. Please enter a valid number.\")\n",
    "\n",
    "if __name__ == \"__main__\":\n",
    "    main()\n"
   ]
  },
  {
   "cell_type": "code",
   "execution_count": 20,
   "id": "928afe97",
   "metadata": {},
   "outputs": [
    {
     "name": "stdout",
     "output_type": "stream",
     "text": [
      "Enter the first number: 98\n",
      "Enter the second number: 44\n",
      "Enter the third number: 77\n",
      "The largest number is: 98.0\n"
     ]
    }
   ],
   "source": [
    "#19 Write a program to find the largest number out of three numbers excepted from user.\n",
    "\n",
    "def find_largest_number(num1, num2, num3):\n",
    "    return max(num1, num2, num3)\n",
    "\n",
    "def main():\n",
    "    try:\n",
    "        num1 = float(input(\"Enter the first number: \"))\n",
    "        num2 = float(input(\"Enter the second number: \"))\n",
    "        num3 = float(input(\"Enter the third number: \"))\n",
    "        largest_number = find_largest_number(num1, num2, num3)\n",
    "        print(f\"The largest number is: {largest_number}\")\n",
    "    except ValueError:\n",
    "        print(\"Invalid input. Please enter valid numbers.\")\n",
    "\n",
    "if __name__ == \"__main__\":\n",
    "    main()\n"
   ]
  },
  {
   "cell_type": "code",
   "execution_count": 21,
   "id": "0c9d5360",
   "metadata": {},
   "outputs": [
    {
     "name": "stdout",
     "output_type": "stream",
     "text": [
      "Enter a character: a\n",
      "a is a vowel.\n"
     ]
    }
   ],
   "source": [
    "#20 Write a program to check a character is vowel or not.1.\n",
    "\n",
    "def is_vowel(character):\n",
    "    vowels = \"aeiouAEIOU\"\n",
    "    return character in vowels\n",
    "\n",
    "def main():\n",
    "    try:\n",
    "        char = input(\"Enter a character: \")\n",
    "        if len(char) == 1 and char.isalpha():\n",
    "            if is_vowel(char):\n",
    "                print(f\"{char} is a vowel.\")\n",
    "            else:\n",
    "                print(f\"{char} is not a vowel.\")\n",
    "        else:\n",
    "            print(\"Invalid input. Please enter a single alphabet character.\")\n",
    "    except ValueError:\n",
    "        print(\"Invalid input. Please enter a valid character.\")\n",
    "\n",
    "if __name__ == \"__main__\":\n",
    "    main()\n"
   ]
  },
  {
   "cell_type": "markdown",
   "id": "858908fb",
   "metadata": {},
   "source": [
    "# OPERATORS"
   ]
  },
  {
   "cell_type": "code",
   "execution_count": 22,
   "id": "3f371cba",
   "metadata": {},
   "outputs": [
    {
     "name": "stdout",
     "output_type": "stream",
     "text": [
      "Enter the first number: 78\n",
      "Enter the second number: 55\n",
      "The sum of 78.0 and 55.0 is: 133.0\n"
     ]
    }
   ],
   "source": [
    "#1 Python program to add two numbers\n",
    "\n",
    "def add_two_numbers(num1, num2):\n",
    "    return num1 + num2\n",
    "\n",
    "def main():\n",
    "    try:\n",
    "        num1 = float(input(\"Enter the first number: \"))\n",
    "        num2 = float(input(\"Enter the second number: \"))\n",
    "        sum_result = add_two_numbers(num1, num2)\n",
    "        print(f\"The sum of {num1} and {num2} is: {sum_result}\")\n",
    "    except ValueError:\n",
    "        print(\"Invalid input. Please enter valid numbers.\")\n",
    "\n",
    "if __name__ == \"__main__\":\n",
    "    main()\n"
   ]
  },
  {
   "cell_type": "code",
   "execution_count": 23,
   "id": "f7311060",
   "metadata": {},
   "outputs": [
    {
     "name": "stdout",
     "output_type": "stream",
     "text": [
      "Enter the first number: 889\n",
      "Enter the second number: 77\n",
      "Sum: 966.0\n",
      "Difference: 812.0\n",
      "Product: 68453.0\n",
      "Quotient: 11.545454545454545\n"
     ]
    }
   ],
   "source": [
    "#2 Python Program to Perform all arithmetic operations\n",
    "def add_numbers(num1, num2):\n",
    "    return num1 + num2\n",
    "\n",
    "def subtract_numbers(num1, num2):\n",
    "    return num1 - num2\n",
    "\n",
    "def multiply_numbers(num1, num2):\n",
    "    return num1 * num2\n",
    "\n",
    "def divide_numbers(num1, num2):\n",
    "    if num2 != 0:\n",
    "        return num1 / num2\n",
    "    else:\n",
    "        return \"Cannot divide by zero.\"\n",
    "\n",
    "def main():\n",
    "    try:\n",
    "        num1 = float(input(\"Enter the first number: \"))\n",
    "        num2 = float(input(\"Enter the second number: \"))\n",
    "\n",
    "        sum_result = add_numbers(num1, num2)\n",
    "        difference_result = subtract_numbers(num1, num2)\n",
    "        product_result = multiply_numbers(num1, num2)\n",
    "        quotient_result = divide_numbers(num1, num2)\n",
    "\n",
    "        print(f\"Sum: {sum_result}\")\n",
    "        print(f\"Difference: {difference_result}\")\n",
    "        print(f\"Product: {product_result}\")\n",
    "        print(f\"Quotient: {quotient_result}\")\n",
    "\n",
    "    except ValueError:\n",
    "        print(\"Invalid input. Please enter valid numbers.\")\n",
    "\n",
    "if __name__ == \"__main__\":\n",
    "    main()\n",
    "\n"
   ]
  },
  {
   "cell_type": "code",
   "execution_count": 24,
   "id": "8bd47538",
   "metadata": {},
   "outputs": [
    {
     "name": "stdout",
     "output_type": "stream",
     "text": [
      "Enter the radius of the circle: 45\n",
      "The area of the circle with radius 45.0 is: 6361.73\n"
     ]
    }
   ],
   "source": [
    "#3 Python Program for Program to find area of a circle\n",
    "\n",
    "import math\n",
    "\n",
    "def calculate_circle_area(radius):\n",
    "    return math.pi * radius**2\n",
    "\n",
    "def main():\n",
    "    try:\n",
    "        radius = float(input(\"Enter the radius of the circle: \"))\n",
    "        if radius >= 0:\n",
    "            area = calculate_circle_area(radius)\n",
    "            print(f\"The area of the circle with radius {radius} is: {area:.2f}\")\n",
    "        else:\n",
    "            print(\"Invalid input. Please enter a non-negative radius.\")\n",
    "    except ValueError:\n",
    "        print(\"Invalid input. Please enter a valid number.\")\n",
    "\n",
    "if __name__ == \"__main__\":\n",
    "    main()\n"
   ]
  },
  {
   "cell_type": "code",
   "execution_count": 25,
   "id": "9a6a81d2",
   "metadata": {},
   "outputs": [
    {
     "name": "stdout",
     "output_type": "stream",
     "text": [
      "Enter the side length of the square: 78\n",
      "Enter the length of the rectangle: 77\n",
      "Enter the width of the rectangle: 44\n",
      "\n",
      "Square:\n",
      "Area: 6084.00\n",
      "Perimeter: 312.00\n",
      "\n",
      "Rectangle:\n",
      "Area: 3388.00\n",
      "Perimeter: 242.00\n"
     ]
    }
   ],
   "source": [
    "#4 Python Program to find Area and Perimeter of Square and Rectangle\n",
    "\n",
    "def calculate_square_area(side):\n",
    "    return side**2\n",
    "\n",
    "def calculate_square_perimeter(side):\n",
    "    return 4 * side\n",
    "\n",
    "def calculate_rectangle_area(length, width):\n",
    "    return length * width\n",
    "\n",
    "def calculate_rectangle_perimeter(length, width):\n",
    "    return 2 * (length + width)\n",
    "\n",
    "def main():\n",
    "    try:\n",
    "        # Square\n",
    "        square_side = float(input(\"Enter the side length of the square: \"))\n",
    "        square_area = calculate_square_area(square_side)\n",
    "        square_perimeter = calculate_square_perimeter(square_side)\n",
    "\n",
    "        # Rectangle\n",
    "        rectangle_length = float(input(\"Enter the length of the rectangle: \"))\n",
    "        rectangle_width = float(input(\"Enter the width of the rectangle: \"))\n",
    "        rectangle_area = calculate_rectangle_area(rectangle_length, rectangle_width)\n",
    "        rectangle_perimeter = calculate_rectangle_perimeter(rectangle_length, rectangle_width)\n",
    "\n",
    "        # Display results\n",
    "        print(\"\\nSquare:\")\n",
    "        print(f\"Area: {square_area:.2f}\")\n",
    "        print(f\"Perimeter: {square_perimeter:.2f}\")\n",
    "\n",
    "        print(\"\\nRectangle:\")\n",
    "        print(f\"Area: {rectangle_area:.2f}\")\n",
    "        print(f\"Perimeter: {rectangle_perimeter:.2f}\")\n",
    "\n",
    "    except ValueError:\n",
    "        print(\"Invalid input. Please enter valid numbers.\")\n",
    "\n",
    "if __name__ == \"__main__\":\n",
    "    main()\n"
   ]
  },
  {
   "cell_type": "code",
   "execution_count": 26,
   "id": "7b140063",
   "metadata": {},
   "outputs": [
    {
     "name": "stdout",
     "output_type": "stream",
     "text": [
      "Enter the principal amount: 78900\n",
      "Enter the annual interest rate (%): 5\n",
      "Enter the time period (in years): 15\n",
      "\n",
      "Principal Amount: 78900.00\n",
      "Interest Amount: 59175.00\n",
      "Total Amount: 138075.00\n"
     ]
    }
   ],
   "source": [
    "#5 Python Program to find simple interest\n",
    "\n",
    "def calculate_simple_interest(principal, rate, time):\n",
    "    interest = (principal * rate * time) / 100\n",
    "    return interest\n",
    "\n",
    "def main():\n",
    "    try:\n",
    "        principal = float(input(\"Enter the principal amount: \"))\n",
    "        rate = float(input(\"Enter the annual interest rate (%): \"))\n",
    "        time = float(input(\"Enter the time period (in years): \"))\n",
    "\n",
    "        if principal >= 0 and rate >= 0 and time >= 0:\n",
    "            interest = calculate_simple_interest(principal, rate, time)\n",
    "            total_amount = principal + interest\n",
    "\n",
    "            print(f\"\\nPrincipal Amount: {principal:.2f}\")\n",
    "            print(f\"Interest Amount: {interest:.2f}\")\n",
    "            print(f\"Total Amount: {total_amount:.2f}\")\n",
    "\n",
    "        else:\n",
    "            print(\"Invalid input. Please enter non-negative values.\")\n",
    "\n",
    "    except ValueError:\n",
    "        print(\"Invalid input. Please enter valid numbers.\")\n",
    "\n",
    "if __name__ == \"__main__\":\n",
    "    main()\n"
   ]
  },
  {
   "cell_type": "code",
   "execution_count": 27,
   "id": "2375cb53",
   "metadata": {},
   "outputs": [
    {
     "name": "stdout",
     "output_type": "stream",
     "text": [
      "Enter the principal amount: 450000\n",
      "Enter the annual interest rate (%): 12\n",
      "Enter the time period (in years): 25\n",
      "Enter the number of times interest is compounded per year: 12\n",
      "\n",
      "Principal Amount: 450000.00\n",
      "Compound Interest: 8454809.82\n"
     ]
    }
   ],
   "source": [
    "#6 Python Program to Find Compound Interest\n",
    "\n",
    "def calculate_compound_interest(principal, rate, time, n):\n",
    "    amount = principal * (1 + rate / n)**(n * time)\n",
    "    compound_interest = amount - principal\n",
    "    return compound_interest\n",
    "\n",
    "def main():\n",
    "    try:\n",
    "        principal = float(input(\"Enter the principal amount: \"))\n",
    "        rate = float(input(\"Enter the annual interest rate (%): \"))\n",
    "        time = float(input(\"Enter the time period (in years): \"))\n",
    "        n = int(input(\"Enter the number of times interest is compounded per year: \"))\n",
    "\n",
    "        if principal >= 0 and rate >= 0 and time >= 0 and n > 0:\n",
    "            compound_interest = calculate_compound_interest(principal, rate / 100, time, n)\n",
    "\n",
    "            print(f\"\\nPrincipal Amount: {principal:.2f}\")\n",
    "            print(f\"Compound Interest: {compound_interest:.2f}\")\n",
    "\n",
    "        else:\n",
    "            print(\"Invalid input. Please enter non-negative values.\")\n",
    "\n",
    "    except ValueError:\n",
    "        print(\"Invalid input. Please enter valid numbers.\")\n",
    "\n",
    "if __name__ == \"__main__\":\n",
    "    main()\n",
    "\n"
   ]
  },
  {
   "cell_type": "code",
   "execution_count": 28,
   "id": "3ca15bbf",
   "metadata": {},
   "outputs": [
    {
     "name": "stdout",
     "output_type": "stream",
     "text": [
      "Enter temperature in Fahrenheit: 45\n",
      "45.0 Fahrenheit is equal to 7.22 Celsius.\n"
     ]
    }
   ],
   "source": [
    "#7 Python Program to Convert fahrenheit to celsius Temperature\n",
    "\n",
    "def fahrenheit_to_celsius(fahrenheit):\n",
    "    celsius = (fahrenheit - 32) * 5.0/9.0\n",
    "    return celsius\n",
    "\n",
    "def main():\n",
    "    try:\n",
    "        fahrenheit = float(input(\"Enter temperature in Fahrenheit: \"))\n",
    "        celsius = fahrenheit_to_celsius(fahrenheit)\n",
    "        print(f\"{fahrenheit} Fahrenheit is equal to {celsius:.2f} Celsius.\")\n",
    "    except ValueError:\n",
    "        print(\"Invalid input. Please enter a valid temperature.\")\n",
    "\n",
    "if __name__ == \"__main__\":\n",
    "    main()\n"
   ]
  },
  {
   "cell_type": "code",
   "execution_count": null,
   "id": "be7a7535",
   "metadata": {},
   "outputs": [],
   "source": []
  }
 ],
 "metadata": {
  "kernelspec": {
   "display_name": "Python 3 (ipykernel)",
   "language": "python",
   "name": "python3"
  },
  "language_info": {
   "codemirror_mode": {
    "name": "ipython",
    "version": 3
   },
   "file_extension": ".py",
   "mimetype": "text/x-python",
   "name": "python",
   "nbconvert_exporter": "python",
   "pygments_lexer": "ipython3",
   "version": "3.11.5"
  }
 },
 "nbformat": 4,
 "nbformat_minor": 5
}
